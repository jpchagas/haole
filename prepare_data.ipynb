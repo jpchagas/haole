{
 "cells": [
  {
   "cell_type": "code",
   "execution_count": 1,
   "id": "677e0605-9aa1-400a-80ea-0b13619809bf",
   "metadata": {},
   "outputs": [],
   "source": [
    "import os"
   ]
  },
  {
   "cell_type": "code",
   "execution_count": 2,
   "id": "8f040a4e-f8b1-4629-b09b-16598948d6a6",
   "metadata": {},
   "outputs": [],
   "source": [
    "BASE_PATH=os.getcwd()+\"/data/videos/aus_margaret/\"\n",
    "STAGE = \"aus_margaret\" \n",
    "BEAT = \"WebbWright\""
   ]
  },
  {
   "cell_type": "code",
   "execution_count": 4,
   "id": "541db2d4-1a06-432c-a3cb-14002713ca66",
   "metadata": {},
   "outputs": [],
   "source": [
    "stages = os.listdir(BASE_PATH)"
   ]
  },
  {
   "cell_type": "code",
   "execution_count": 5,
   "id": "bee0403d-b364-4589-95d6-7706abb59aff",
   "metadata": {},
   "outputs": [
    {
     "data": {
      "text/plain": [
       "['FerreiraIbelli',\n",
       " 'FlorenceFioravanti',\n",
       " 'WebbWrightRenamed',\n",
       " 'Taitana Weston-Webb vs Tyler Wright HEAT REPLAY Boost Mobile Margaret River Pro presented by Corona.mp4',\n",
       " 'compiled',\n",
       " 'ToledoSmith',\n",
       " 'John John Florence vs Leonardo Fioravanti HEAT REPLAY Boost Mobile Margaret River Pro Round of 32.mp4',\n",
       " 'Italo Ferreira vs. Caio Ibelli HEAT REPLAY Boost Mobile Margaret River Pro presented by Corona.mp4',\n",
       " 'WebbGilmore',\n",
       " 'MARGS FINAL Filipe Toledo vs. Jordy Smith! HEAT REPLAY Boost Mobile Margaret River Pro.mp4',\n",
       " 'Tatiana Weston-Webb vs Stephanie Gilmore FINAL HEAT REPLAY Boost Mobile Margaret River Pro.mp4',\n",
       " 'WebbWright']"
      ]
     },
     "execution_count": 8,
     "metadata": {},
     "output_type": "execute_result"
    }
   ],
   "source": [
    "stages"
   ]
  },
  {
   "cell_type": "code",
   "execution_count": null,
   "id": "d7b0bc9f-da96-4601-90a8-8655398aea49",
   "metadata": {},
   "outputs": [],
   "source": [
    "filenames = [x.replace(\".xml\",\"\") for x in stages if x.endswith(\".xml\")]"
   ]
  },
  {
   "cell_type": "code",
   "execution_count": null,
   "id": "e996d9e2-c9af-4187-9496-ecc232bee2ab",
   "metadata": {},
   "outputs": [],
   "source": [
    "for file in filenames:\n",
    "    os.rename(BASE_PATH +\"/\" +file+\".xml\",BASE_PATH +\"/\" +STAGE+\"_\"+BEAT+\"_\"+file+\".xml\")\n",
    "    os.rename(BASE_PATH +\"/\" +file+\".png\",BASE_PATH +\"/\" +STAGE+\"_\"+BEAT+\"_\"+file+\".png\")"
   ]
  }
 ],
 "metadata": {
  "kernelspec": {
   "display_name": "Python 3 (ipykernel)",
   "language": "python",
   "name": "python3"
  },
  "language_info": {
   "codemirror_mode": {
    "name": "ipython",
    "version": 3
   },
   "file_extension": ".py",
   "mimetype": "text/x-python",
   "name": "python",
   "nbconvert_exporter": "python",
   "pygments_lexer": "ipython3",
   "version": "3.8.10"
  }
 },
 "nbformat": 4,
 "nbformat_minor": 5
}
